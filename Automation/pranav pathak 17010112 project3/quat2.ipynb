{
 "cells": [
  {
   "cell_type": "code",
   "execution_count": 46,
   "metadata": {},
   "outputs": [],
   "source": [
    "from yaml import safe_load"
   ]
  },
  {
   "cell_type": "code",
   "execution_count": 51,
   "metadata": {},
   "outputs": [],
   "source": [
    "with open(\"pcreate.yml\", 'rb') as f:\n",
    "    data = f.read()\n",
    "    k = safe_load(data)\n",
    "    \n"
   ]
  },
  {
   "cell_type": "code",
   "execution_count": 52,
   "metadata": {},
   "outputs": [
    {
     "data": {
      "text/plain": [
       "'psql'"
      ]
     },
     "execution_count": 52,
     "metadata": {},
     "output_type": "execute_result"
    }
   ],
   "source": [
    "k[0][\"dbName\"]"
   ]
  },
  {
   "cell_type": "code",
   "execution_count": 53,
   "metadata": {},
   "outputs": [],
   "source": [
    " def load(filePath):\n",
    "    with open(filePath, 'rb') as f:\n",
    "        data = f.read()\n",
    "        k = safe_load(data)\n",
    "        \n",
    "    return k\n"
   ]
  },
  {
   "cell_type": "code",
   "execution_count": 54,
   "metadata": {},
   "outputs": [],
   "source": [
    "def dbConnection(host, user, password, database=\"\"):\n",
    "    import mysql.connector\n",
    "    host=host\n",
    "    username=user\n",
    "    password=password\n",
    "    database=database\n",
    "    mydb = mysql.connector.connect(host=\"{0}\".format(host), username=\"{0}\".format(username),password=\"{0}\".format(password),database=\"{0}\".format(database))\n",
    "    return mydb"
   ]
  },
  {
   "cell_type": "code",
   "execution_count": 55,
   "metadata": {},
   "outputs": [],
   "source": [
    "def removeDL(dict, remove):\n",
    "    lst=list(dict.keys())\n",
    "    lst.remove(remove)\n",
    "    return lst\n",
    "    "
   ]
  },
  {
   "cell_type": "code",
   "execution_count": 76,
   "metadata": {},
   "outputs": [],
   "source": [
    "def pgConnection(host, user, password, database=\"\"):\n",
    "    import psycopg2\n",
    "    host=host\n",
    "    user=user\n",
    "    password=password\n",
    "    database=database\n",
    "    \n",
    "    mydb = psycopg2.connect(host=\"{0}\".format(host), user=\"{0}\".format(user),password=\"{0}\".format(password),database=\"{0}\".format(database))\n",
    "    return mydb"
   ]
  },
  {
   "cell_type": "code",
   "execution_count": 74,
   "metadata": {},
   "outputs": [],
   "source": [
    "def connection(hosts, group, db):\n",
    "    h=[]\n",
    "    for i in hosts:\n",
    "        if i['group']==group:\n",
    "            host=removeDL(dict=i,remove=\"group\")\n",
    "            if db==\"mysql\":\n",
    "                \n",
    "                for j in host:\n",
    "                    if \"database\" in list(i[j].keys()):\n",
    "                        h.append(dbConnection(i[j][\"host\"],i[j][\"user\"],i[j][\"passwd\"],i[j][\"database\"]))\n",
    "                    else:\n",
    "                        h.append(dbConnection(i[j][\"host\"],i[j][\"user\"],i[j][\"passwd\"]))\n",
    "            if db==\"psql\":\n",
    "                 for j in host:\n",
    "                        h.append(pgConnection(i[j][\"host\"],i[j][\"user\"],i[j][\"passwd\"],i[j][\"database\"]))\n",
    "                \n",
    "                \n",
    "            return h\n",
    "           "
   ]
  },
  {
   "cell_type": "code",
   "execution_count": 58,
   "metadata": {},
   "outputs": [],
   "source": [
    "def host(group, db):\n",
    "    hosts= load(\"hosts.yml\")\n",
    "    hostsCon=connection(hosts, group, db)\n",
    "    return hostsCon"
   ]
  },
  {
   "cell_type": "code",
   "execution_count": 59,
   "metadata": {},
   "outputs": [],
   "source": [
    "def checkKey(dict, key):      \n",
    "    if key in dict.keys(): \n",
    "        return True \n",
    "    else: \n",
    "        return False \n",
    "  "
   ]
  },
  {
   "cell_type": "code",
   "execution_count": 60,
   "metadata": {},
   "outputs": [],
   "source": [
    "def listtostring(sep, convert):\n",
    "    sep=sep.join(convert)\n",
    "    return sep"
   ]
  },
  {
   "cell_type": "code",
   "execution_count": 61,
   "metadata": {},
   "outputs": [],
   "source": [
    "def insert(tasks, group):\n",
    "    dbhost= host(group)\n",
    "    for i in dbhost:\n",
    "        print(\"tasks:\", tasks)\n",
    "        print(\"group:\", group)\n",
    "        if checkKey(tasks,\"columns\"):\n",
    "            print(\"yes\")\n",
    "            columns=listtostring(\",\", tasks[\"columns\"])\n",
    "            #sptask=tasks[\"values\"].split(\"--\")\n",
    "            sptask=tasks[\"values\"]\n",
    "            #if sptask[0]=='':\n",
    "            mycursor = i.cursor()\n",
    "            for h in sptask[1:]:\n",
    "                s=\"insert into {0} ({1}) values({2})\".format(tasks[\"table\"],columns, h)\n",
    "                mycursor.execute(s)\n",
    "                i.commit()\n",
    "                print(mycursor.rowcount, \"record inserted.\")\n",
    "           \n",
    "            \n",
    "        else:\n",
    "            print(\"no\")            \n",
    "            #sptask=tasks[\"values\"].split(\"--\")\n",
    "            sptask=tasks[\"values\"]\n",
    "            #if sptask[0]=='':\n",
    "            mycursor = i.cursor()\n",
    "            for h in sptask:\n",
    "                s=\"insert into {} values({})\".format(tasks[\"table\"],h)\n",
    "                mycursor.execute(s)\n",
    "                i.commit()\n",
    "                print(mycursor.rowcount, \"record inserted.\")\n",
    "           \n",
    "       "
   ]
  },
  {
   "cell_type": "code",
   "execution_count": 62,
   "metadata": {},
   "outputs": [],
   "source": [
    "def alter(tasks, group):\n",
    "    print(\"tasks:\", tasks)\n",
    "    print(\"group:\", group)\n",
    "    dbhost= host(group)\n",
    "    for i in dbhost:\n",
    "        mycursor = i.cursor()\n",
    "        if checkKey(tasks,\"add\"):\n",
    "            for l in tasks[\"add\"]:\n",
    "                s=\"alter table {0}  add {1}\".format(tasks[\"table\"], l)\n",
    "                mycursor.execute(s)\n",
    "                i.commit()\n",
    "                print(mycursor.rowcount, \"record altered.\")\n",
    "        if checkKey(tasks,\"drop\"):\n",
    "            for l in tasks[\"drop\"]:\n",
    "                s=\"alter table {0}  drop column {1}\".format(tasks[\"table\"], l)\n",
    "                mycursor.execute(s)\n",
    "                i.commit()\n",
    "                print(mycursor.rowcount, \"record altered.\")\n",
    "        if checkKey(tasks,\"modify\"):\n",
    "            for l in tasks[\"modify\"]:\n",
    "                s=\"alter table {0}  modify {1}\".format(tasks[\"table\"], l)\n",
    "                mycursor.execute(s)\n",
    "                i.commit()\n",
    "                print(mycursor.rowcount, \"record altered.\")\n",
    "        if checkKey(tasks,\"renameColumn\"):\n",
    "            for l in tasks[\"renameColumn\"]:\n",
    "                s=\"alter table {0} change column {1}\".format(tasks[\"table\"], l)\n",
    "                mycursor.execute(s)\n",
    "                i.commit()\n",
    "                print(mycursor.rowcount, \"record altered.\")\n",
    "        if checkKey(tasks,\"renameTable\"):\n",
    "            for l in tasks[\"renameTable\"]:\n",
    "                s=\"alter table {0}  rename {1}\".format(tasks[\"table\"], l)\n",
    "                mycursor.execute(s)\n",
    "                i.commit()\n",
    "                print(mycursor.rowcount, \"record altered.\")\n",
    "                    \n",
    "            \n",
    "            \n",
    "    "
   ]
  },
  {
   "cell_type": "code",
   "execution_count": 63,
   "metadata": {},
   "outputs": [],
   "source": [
    "def command(tasks, group):\n",
    "    dbhost= host(group)\n",
    "    for i in dbhost:\n",
    "        print(\"tasks\", tasks)\n",
    "        mycursor = i.cursor()\n",
    "        for q in tasks[\"query\"]:\n",
    "            mycursor.execute(q)\n",
    "            if tasks[\"commit\"]:\n",
    "                i.commit()\n",
    "            for x in mycursor:\n",
    "                print(x)"
   ]
  },
  {
   "cell_type": "code",
   "execution_count": 64,
   "metadata": {},
   "outputs": [],
   "source": [
    "def grant(tasks, group):\n",
    "    #print(\"tasks:\", tasks)\n",
    "    #print(\"group:\", group)\n",
    "    dbhost= host(group)\n",
    "    for i in dbhost:\n",
    "        mycursor = i.cursor()\n",
    "        if tasks[\"type\"]==\"role\":\n",
    "            s='grant \"' + listtostring('\",\"',tasks[\"roles\"]) +'\" to \"' + listtostring('\",\"' ,tasks[\"user_or_role\"]) +'\"'\n",
    "            mycursor.execute(s)            \n",
    "            print(\"Grant roles successful\")\n",
    "        \n",
    "        if tasks[\"type\"]==\"privileges\":\n",
    "            s='grant ' + listtostring(',', tasks[\"privileges\"]) + ' on {0}.{1} to  \"'.format(tasks[\"database\"], tasks[\"table\"]) + listtostring('\",\"' ,tasks[\"user_or_role\"]) +'\"'\n",
    "            mycursor.execute(s)            \n",
    "            print(\"Grant permission successful\")\n",
    "        \n",
    "        if tasks[\"type\"]==\"proxy\":\n",
    "            if tasks[\"grant_option\"]:                \n",
    "                s='grant proxy on \"' + listtostring('\",\"',tasks[\"proxy_user_or_role\"]) +'\" to \"' + listtostring('\",\"' ,tasks[\"user_or_role\"]) +'\" with grant option'\n",
    "                print(s)\n",
    "                mycursor.execute(s)            \n",
    "                print(\"Grant proxy successful\")\n",
    "            else:\n",
    "                s='grant proxy on \"' + listtostring('\",\"',tasks[\"proxy_user_or_role\"]) +'\" to \"' + listtostring('\",\"' ,tasks[\"user_or_role\"]) +'\"'\n",
    "                print(s)\n",
    "                mycursor.execute(s)            \n",
    "                print(\"Grant proxy successful with grant option\")\n",
    "            \n",
    "            \n",
    "        if checkKey(tasks,\"roles\") & checkKey(tasks,\"permission\"):\n",
    "            print(\"Error: you can have either permission or roles set, not both\")"
   ]
  },
  {
   "cell_type": "code",
   "execution_count": 65,
   "metadata": {},
   "outputs": [],
   "source": [
    "def drop(tasks, group):\n",
    "    print(\"tasks:\", tasks)\n",
    "    print(\"group:\", group)\n",
    "    dbhost= host(group)\n",
    "    for i in dbhost:\n",
    "        mycursor = i.cursor()        \n",
    "        if tasks[\"type\"]==\"table\":            \n",
    "            s='drop table IF EXISTS {0}'.format(listtostring(',',tasks[\"name\"]))\n",
    "            if checkKey(tasks, \"temporary\"):                \n",
    "                if tasks[\"temporary\"]:\n",
    "                    s='drop temporary table IF EXISTS {0}'.format(listtostring(',',tasks[\"name\"]))            \n",
    "            if checkKey(tasks, \"restrict\"):\n",
    "                if tasks[\"restrict\"]:\n",
    "                    s=s+' restrict'\n",
    "            if checkKey(tasks, \"cascade\"):\n",
    "                if tasks[\"cascade\"]:\n",
    "                    s=s+' cascade'\n",
    "            print(s)\n",
    "            mycursor.execute(s)            \n",
    "            print(\"drop table successful\")\n",
    "            \n",
    "        if tasks[\"type\"]==\"index\":            \n",
    "            s='drop index  {0} on {1}'.format(listtostring(',',tasks[\"index_name\"]), listtostring(',',tasks[\"table_name\"]))            \n",
    "            if checkKey(tasks, \"algorithm\"):\n",
    "                s=s+' algorithm = {}'.format(tasks[\"algorithm\"])\n",
    "            if checkKey(tasks,\"lock\"):\n",
    "                s=s+' lock = {}'.format(tasks[\"lock\"])\n",
    "            print(s)\n",
    "            mycursor.execute(s)            \n",
    "            print(\"drop index successful\")\n",
    "            \n",
    "        if tasks[\"type\"]==\"logfile\":            \n",
    "            s='drop logfile group  {0}'.format(listtostring(',',tasks[\"logfile_group\"]))            \n",
    "            if checkKey(tasks, \"engine\"):\n",
    "                s=s+' engine = {}'.format(tasks[\"engine\"])\n",
    "            print(s)\n",
    "            mycursor.execute(s)            \n",
    "            print(\"drop logfile successful\")\n",
    "            \n",
    "        if tasks[\"type\"]==\"database\":            \n",
    "            s='drop database IF EXISTS {0}  '.format(listtostring(',',tasks[\"name\"]))              \n",
    "            print(s)    \n",
    "            mycursor.execute(s)            \n",
    "            print(\"drop database successful\")\n",
    "        if tasks[\"type\"]==\"schema\":            \n",
    "            s='drop schema IF EXISTS {0}  '.format(listtostring(',',tasks[\"name\"]))              \n",
    "            print(s)  \n",
    "            mycursor.execute(s)            \n",
    "            print(\"drop schema successful\")\n",
    "        if tasks[\"type\"]==\"function\":            \n",
    "            s='drop function IF EXISTS {0}  '.format(listtostring(',',tasks[\"name\"]))              \n",
    "            print(s)\n",
    "            mycursor.execute(s)            \n",
    "            print(\"drop function successful\")\n",
    "        if tasks[\"type\"]==\"procedure\":            \n",
    "            s='drop procedure IF EXISTS {0}  '.format(listtostring(',',tasks[\"name\"]))              \n",
    "            print(s) \n",
    "            mycursor.execute(s)            \n",
    "            print(\"drop procedure successful\")\n",
    "        if tasks[\"type\"]==\"server\":            \n",
    "            s='drop server IF EXISTS {0}  '.format(listtostring(',',tasks[\"server_name\"]))              \n",
    "            print(s) \n",
    "            mycursor.execute(s)            \n",
    "            print(\"drop server successful\")\n",
    "        if tasks[\"type\"]==\"spatial_reference_system\": \n",
    "            for t in tasks[\"srid\"]:\n",
    "                s='drop spatial reference system IF EXISTS {0} '.format(t)              \n",
    "                print(s)\n",
    "                mycursor.execute(s)            \n",
    "            print(\"drop spacial reference system successful\")\n",
    "            \n",
    "        if tasks[\"type\"]==\"tablespace\":            \n",
    "            s='drop tablespace  {0}'.format(listtostring(',',tasks[\"tablespace_name\"]))\n",
    "            if checkKey(tasks, \"undo\"):\n",
    "                if tasks[\"undo\"]:\n",
    "                    s='drop undo tablespace  {0}'.format(listtostring(',',tasks[\"tablespace_name\"]))\n",
    "            if checkKey(tasks, \"engine\"):\n",
    "                s=s+' engine = {}'.format(tasks[\"engine\"])           \n",
    "            print(s)\n",
    "            mycursor.execute(s)            \n",
    "            print(\"drop tablespace successful\")\n",
    "            \n",
    "        if tasks[\"type\"]==\"trigger\":            \n",
    "            s='drop trigger IF EXISTS {0} '.format(listtostring(',',tasks[\"trigger_name\"]))           \n",
    "            if checkKey(tasks, \"schema_name\"):\n",
    "                for t in tasks[\"trigger_name\"]:\n",
    "                    s='drop trigger IF EXISTS {0}.{1} '.format(tasks[\"schema_name\"], t )\n",
    "                    print(s)   \n",
    "                    mycursor.execute(s)            \n",
    "                    print(\"drop trigger successful\")\n",
    "        \n",
    "        if tasks[\"type\"]==\"view\":            \n",
    "            s='drop view IF EXISTS {0}'.format(listtostring(',',tasks[\"view_name\"]))\n",
    "            if checkKey(tasks, \"restrict\"):\n",
    "                if tasks[\"restrict\"]:\n",
    "                    s=s+' restrict'\n",
    "            if checkKey(tasks, \"cascade\"):\n",
    "                if tasks[\"cascade\"]:\n",
    "                    s=s+' cascade'\n",
    "            print(s)\n",
    "            mycursor.execute(s)            \n",
    "            print(\"drop view successful\")\n",
    "            \n",
    "        if tasks[\"type\"]==\"event\":            \n",
    "            s='drop event IF EXISTS {0}  '.format(listtostring(',',tasks[\"event_name\"]))              \n",
    "            print(s)\n",
    "            mycursor.execute(s)            \n",
    "            print(\"drop event successful\")\n",
    "        if tasks[\"type\"]==\"user\":            \n",
    "            s='drop user IF EXISTS {0}  '.format(listtostring(',',tasks[\"user_name\"]))              \n",
    "            print(s)\n",
    "            mycursor.execute(s)            \n",
    "            print(\"drop user successful\")\n",
    "        if tasks[\"type\"]==\"role\":            \n",
    "            s='drop role IF EXISTS {0}  '.format(listtostring(',',tasks[\"name\"]))              \n",
    "            print(s)\n",
    "            mycursor.execute(s)            \n",
    "            print(\"drop role successful\")\n",
    "        "
   ]
  },
  {
   "cell_type": "code",
   "execution_count": 66,
   "metadata": {},
   "outputs": [],
   "source": [
    "def revoke(tasks, group):\n",
    "    dbhost= host(group)\n",
    "    for i in dbhost:\n",
    "        mycursor = i.cursor()\n",
    "        if tasks[\"type\"]==\"role\":\n",
    "            s='revoke \"' + listtostring('\",\"',tasks[\"roles\"]) +'\" from \"' + listtostring('\",\"' ,tasks[\"user_or_role\"]) +'\"'\n",
    "            mycursor.execute(s)            \n",
    "            print(\"revoke roles successful\")\n",
    "        \n",
    "        if tasks[\"type\"]==\"privileges\":\n",
    "            s='revoke ' + listtostring(',', tasks[\"privileges\"]) + ' on {0}.{1} from  \"'.format(tasks[\"database\"], tasks[\"table\"]) + listtostring('\",\"' ,tasks[\"user_or_role\"]) +'\"'\n",
    "            mycursor.execute(s)            \n",
    "            print(\"revoke permission successful\")\n",
    "        \n",
    "        if tasks[\"type\"]==\"proxy\":            \n",
    "            s='revoke proxy on \"' + listtostring('\",\"',tasks[\"proxy_user_or_role\"]) +'\" from \"' + listtostring('\",\"' ,tasks[\"user_or_role\"]) +'\"'\n",
    "            print(s)\n",
    "            mycursor.execute(s)            \n",
    "            print(\"revoke proxy successful with grant option\")\n",
    "            \n",
    "            \n",
    "        if checkKey(tasks,\"roles\") & checkKey(tasks,\"permission\"):\n",
    "            print(\"Error: you can have either permission or roles set, not both\")"
   ]
  },
  {
   "cell_type": "code",
   "execution_count": 67,
   "metadata": {},
   "outputs": [],
   "source": [
    "def truncate(tasks, group):\n",
    "    dbhost= host(group)\n",
    "    for i in dbhost:\n",
    "        mycursor = i.cursor()\n",
    "        for t in tasks[\"table_name\"]:           \n",
    "            if checkKey(tasks, \"database\"):\n",
    "                s=\"truncate table {0}.{1}\".format(tasks[\"database\"],t)\n",
    "            else:\n",
    "                 s=\"truncate table {}\".format(t)\n",
    "            print(s)\n",
    "            mycursor.execute(s)            \n",
    "            print(\"truncate successfull\")"
   ]
  },
  {
   "cell_type": "code",
   "execution_count": 68,
   "metadata": {},
   "outputs": [],
   "source": [
    "def lock(tasks, group):\n",
    "    dbhost= host(group)\n",
    "    for i in dbhost:\n",
    "        mycursor = i.cursor()\n",
    "        print(tasks)\n",
    "        if checkKey(tasks, \"database\"):            \n",
    "            for t in range(len(tasks[\"table_name\"])):\n",
    "                s= \"lock table {0}.{1} {2}\".format(tasks[\"database\"], tasks[\"table_name\"][t], tasks[\"lock_type\"][t])\n",
    "                mycursor.execute(s)\n",
    "                print(\"lock successfull\")\n",
    "        else:\n",
    "            for t in range(len(tasks[\"table_name\"])):\n",
    "                s= \"lock table {0} {1}\".format(tasks[\"table_name\"][t], tasks[\"lock_type\"][t])\n",
    "                mycursor.execute(s)\n",
    "                print(\"lock successfull\")\n",
    "        \n",
    "        "
   ]
  },
  {
   "cell_type": "code",
   "execution_count": 69,
   "metadata": {},
   "outputs": [],
   "source": [
    "def rename(tasks, group):\n",
    "    dbhost= host(group)\n",
    "    for i in dbhost:\n",
    "        mycursor = i.cursor()\n",
    "        print(tasks)\n",
    "        for t in range(len(tasks[\"old_table_name\"])):\n",
    "            s=\"rename table {} to {}\".format(tasks[\"old_table_name\"][t], tasks[\"new_table_name\"][t])\n",
    "            print(s)\n",
    "            mycursor.execute(s)            \n",
    "            print(\"rename successfull\")"
   ]
  },
  {
   "cell_type": "code",
   "execution_count": 70,
   "metadata": {},
   "outputs": [],
   "source": [
    "def update(tasks, group):\n",
    "    dbhost= host(group)\n",
    "    for i in dbhost:\n",
    "        mycursor = i.cursor()\n",
    "        s=\"update\"\n",
    "        if checkKey(tasks, \"low_priority\"):\n",
    "            s=s+\" low_priority \"\n",
    "        if checkKey(tasks, \"ignore\"):\n",
    "            s=s+\" ignore \"\n",
    "        s=s+\" {0} set {1} \".format(listtostring(\", \",tasks[\"table_reference\"]), listtostring(\", \" , tasks[\"assignment_list\"]))\n",
    "        #print(s)\n",
    "        if checkKey(tasks, \"where_condition\"):\n",
    "            s=s+ \" where {0} \".format(listtostring(\", \", tasks[\"where_condition\"]))\n",
    "        if len(tasks[\"table_reference\"]) ==1:\n",
    "            if checkKey(tasks,\"order_by\"):\n",
    "                s=s+ \" order by {} \".format(tasks[\"order_by\"])\n",
    "            if checkKey(tasks, \"limit_row_count\"):\n",
    "                s=s+ \" limit {} \".format(tasks[\"limit_row_count\"])\n",
    "        print(s)\n",
    "        mycursor.execute(s)            \n",
    "        print(\"update successfull\")\n",
    "   "
   ]
  },
  {
   "cell_type": "code",
   "execution_count": 71,
   "metadata": {},
   "outputs": [],
   "source": [
    "def delete(tasks, group):\n",
    "    dbhost= host(group)\n",
    "    for i in dbhost:\n",
    "        mycursor = i.cursor()\n",
    "        #print(tasks)\n",
    "        s=\"delete\"\n",
    "        if checkKey(tasks, \"low_priority\"):\n",
    "            s=s+\" low_priority \"\n",
    "        if checkKey(tasks, \"ignore\"):\n",
    "            s=s+\" ignore \"\n",
    "        if checkKey(tasks, \"quick\"):\n",
    "            s=s+\" quick \"\n",
    "        if checkKey(tasks, \"from_table_reference\"):\n",
    "            s=s+\" {} from {} \".format(listtostring(\", \", tasks[\"table_reference\"]), listtostring(\", \", tasks[\"from_table_reference\"]))\n",
    "            print(s)\n",
    "            \n",
    "        elif checkKey(tasks, \"using_table_reference\"):\n",
    "            s=s+\" from {} using {} \".format(listtostring(\", \", tasks[\"table_reference\"]), listtostring(\", \", tasks[\"using_table_reference\"]))\n",
    "            \n",
    "            \n",
    "        else:\n",
    "            s=s+\" from {0} \".format(tasks[\"table_reference\"][0])\n",
    "            print(s)\n",
    "            if checkKey(tasks, \"partition_name_list\"):\n",
    "                s=s+ \" partition {} \".format(listtostring(\", \", tasks[\"partition_name_list\"]))\n",
    "        if checkKey(tasks, \"where_condition\"):\n",
    "            s=s+ \" where {0} \".format(listtostring(\", \", tasks[\"where_condition\"]))\n",
    "        if len(tasks[\"table_reference\"])==1:\n",
    "            if checkKey(tasks,\"order_by\"):\n",
    "                s=s+ \" order by {} \".format(tasks[\"order_by\"])\n",
    "            if checkKey(tasks, \"limit_row_count\"):\n",
    "                s=s+ \" limit {} \".format(tasks[\"limit_row_count\"])\n",
    "        print(s)\n",
    "        mycursor.execute(s)            \n",
    "        print(\"update successfull\")\n",
    "        \"\"\"\n",
    "        DELETE [LOW_PRIORITY] [QUICK] [IGNORE]\n",
    "    tbl_name[.*] [, tbl_name[.*]] ...\n",
    "    FROM table_references\n",
    "    [WHERE where_condition]\n",
    "\n",
    "DELETE [LOW_PRIORITY] [QUICK] [IGNORE]\n",
    "    FROM tbl_name[.*] [, tbl_name[.*]] ...\n",
    "    USING table_references\n",
    "    [WHERE where_condition]\n",
    "        DELETE [LOW_PRIORITY] [QUICK] [IGNORE] FROM tbl_name [[AS] tbl_alias]\n",
    "    [PARTITION (partition_name [, partition_name] ...)]\n",
    "    [WHERE where_condition]\n",
    "    [ORDER BY ...]\n",
    "    [LIMIT row_count]\n",
    "    \"\"\""
   ]
  },
  {
   "cell_type": "code",
   "execution_count": 82,
   "metadata": {},
   "outputs": [],
   "source": [
    "def create(tasks, group, db):\n",
    "    dbhost= host(group, db)\n",
    "    for i in dbhost:\n",
    "        if db==\"mysql\":\n",
    "            if tasks[\"type\"]==\"database\":\n",
    "                mycursor = i.cursor()\n",
    "                mycursor.execute(\"SHOW DATABASES\")\n",
    "                flag=1\n",
    "                for x in mycursor:\n",
    "                    if x[0]== tasks[\"name\"]:\n",
    "                        flag=0\n",
    "                        print(\"Database {} already exists\".format(tasks[\"name\"]))\n",
    "                if flag == 1:                         \n",
    "                    exe=i.cursor()\n",
    "                    exe.execute(\"CREATE DATABASE {0}\".format(tasks[\"name\"]))\n",
    "                    print(\"Database {} created Successfully\".format(tasks[\"name\"]))\n",
    "            if tasks[\"type\"]==\"table\":\n",
    "                if checkKey(tasks, \"columns\"):\n",
    "                    if checkKey(tasks, \"database\"):\n",
    "                        sep=listtostring(\",\",tasks[\"columns\"])                                    \n",
    "                        exe=i.cursor()\n",
    "                        exe.execute(\"CREATE TABLE if not exists {0}.{1}( {2} )\".format(tasks[\"database\"], tasks[\"name\"], sep) )\n",
    "                        print(\"Table {0}.{1} Created Successfully\".format(tasks[\"database\"],tasks[\"name\"]))\n",
    "                    else:                        \n",
    "                        sep=listtostring(\",\",tasks[\"columns\"])                                    \n",
    "                        exe=i.cursor()\n",
    "                        exe.execute(\"CREATE TABLE if not exists {0}( {1} )\".format(tasks[\"name\"], sep) )\n",
    "                        print(\"Table {} Created Successfully\".format(tasks[\"name\"]))\n",
    "                else:\n",
    "                    print(\"ERROR: A table must have at least 1 column, {} has no column\".format(tasks[\"name\"]))\n",
    "\n",
    "            if tasks[\"type\"]==\"role\":\n",
    "                mycursor = i.cursor()\n",
    "                #print(tasks)\n",
    "                for r in tasks[\"role\"]:\n",
    "                    print(r)\n",
    "                    s= \"create role if not exists {}\".format(r)\n",
    "                    mycursor.execute(s)\n",
    "                    print(\" Role Created Successfull\")\n",
    "                    for x in mycursor:\n",
    "                        print(x)\n",
    "\n",
    "                        \n",
    "        if db==\"psql\":\n",
    "            if tasks[\"type\"]==\"database\":\n",
    "                mycursor = i.cursor()\n",
    "                try:\n",
    "                    \n",
    "                    mycursor.execute(\"CREATE DATABASE {0}\".format(tasks[\"name\"]))\n",
    "                    print(\"Database {} created Successfully\".format(tasks[\"name\"]))\n",
    "                    \n",
    "                except:\n",
    "                    print(\"Database {} already exists\".format(tasks[\"name\"]))\n",
    "                    \n",
    "            \n",
    "            if tasks[\"type\"]==\"table\":\n",
    "                if checkKey(tasks, \"columns\"):\n",
    "                    if checkKey(tasks, \"database\"):\n",
    "                        sep=listtostring(\",\",tasks[\"columns\"])                                    \n",
    "                        exe=i.cursor()\n",
    "                        exe.execute(\"CREATE TABLE if not exists {0}.{1}( {2} )\".format(tasks[\"database\"], tasks[\"name\"], sep) )\n",
    "                        print(\"Table {0}.{1} Created Successfully\".format(tasks[\"database\"],tasks[\"name\"]))\n",
    "                    else:                        \n",
    "                        sep=listtostring(\",\",tasks[\"columns\"])                                    \n",
    "                        exe=i.cursor()\n",
    "                        exe.execute(\"CREATE TABLE if not exists {0}( {1} )\".format(tasks[\"name\"], sep) )\n",
    "                        print(\"Table {} Created Successfully\".format(tasks[\"name\"]))\n",
    "                else:\n",
    "                    print(\"ERROR: A table must have at least 1 column, {} has no column\".format(tasks[\"name\"]))\n",
    "\n",
    "        "
   ]
  },
  {
   "cell_type": "code",
   "execution_count": 83,
   "metadata": {
    "scrolled": true
   },
   "outputs": [
    {
     "name": "stdout",
     "output_type": "stream",
     "text": [
      "Database test4 already exists\n"
     ]
    },
    {
     "ename": "InvalidSchemaName",
     "evalue": "schema \"test4\" does not exist\nLINE 1: CREATE TABLE if not exists test4.ttt5( firstname VARCHAR(30)...\n                                   ^\n",
     "output_type": "error",
     "traceback": [
      "\u001b[1;31m---------------------------------------------------------------------------\u001b[0m",
      "\u001b[1;31mInvalidSchemaName\u001b[0m                         Traceback (most recent call last)",
      "\u001b[1;32m<ipython-input-83-ae0a04872fc6>\u001b[0m in \u001b[0;36m<module>\u001b[1;34m()\u001b[0m\n\u001b[0;32m     27\u001b[0m         \u001b[1;31m#print(\"EXECUTING TASKS: \", k[i][\"tasks\"][\"name\"])\u001b[0m\u001b[1;33m\u001b[0m\u001b[1;33m\u001b[0m\u001b[0m\n\u001b[0;32m     28\u001b[0m         \u001b[1;32mif\u001b[0m \u001b[0ml\u001b[0m\u001b[1;33m[\u001b[0m\u001b[1;36m0\u001b[0m\u001b[1;33m]\u001b[0m\u001b[1;33m==\u001b[0m\u001b[1;34m\"create\"\u001b[0m\u001b[1;33m:\u001b[0m\u001b[1;33m\u001b[0m\u001b[0m\n\u001b[1;32m---> 29\u001b[1;33m             \u001b[0mcreate\u001b[0m\u001b[1;33m(\u001b[0m\u001b[0mk\u001b[0m\u001b[1;33m[\u001b[0m\u001b[0mi\u001b[0m\u001b[1;33m]\u001b[0m\u001b[1;33m[\u001b[0m\u001b[1;34m\"tasks\"\u001b[0m\u001b[1;33m]\u001b[0m\u001b[1;33m[\u001b[0m\u001b[0mj\u001b[0m\u001b[1;33m]\u001b[0m\u001b[1;33m[\u001b[0m\u001b[0ml\u001b[0m\u001b[1;33m[\u001b[0m\u001b[1;36m0\u001b[0m\u001b[1;33m]\u001b[0m\u001b[1;33m]\u001b[0m\u001b[1;33m,\u001b[0m\u001b[0mk\u001b[0m\u001b[1;33m[\u001b[0m\u001b[0mi\u001b[0m\u001b[1;33m]\u001b[0m\u001b[1;33m[\u001b[0m\u001b[1;34m\"group\"\u001b[0m\u001b[1;33m]\u001b[0m\u001b[1;33m,\u001b[0m \u001b[0mk\u001b[0m\u001b[1;33m[\u001b[0m\u001b[1;36m0\u001b[0m\u001b[1;33m]\u001b[0m\u001b[1;33m[\u001b[0m\u001b[1;34m\"dbName\"\u001b[0m\u001b[1;33m]\u001b[0m\u001b[1;33m)\u001b[0m\u001b[1;33m\u001b[0m\u001b[0m\n\u001b[0m\u001b[0;32m     30\u001b[0m         \u001b[1;32mif\u001b[0m \u001b[0ml\u001b[0m\u001b[1;33m[\u001b[0m\u001b[1;36m0\u001b[0m\u001b[1;33m]\u001b[0m\u001b[1;33m==\u001b[0m\u001b[1;34m\"insert\"\u001b[0m\u001b[1;33m:\u001b[0m\u001b[1;33m\u001b[0m\u001b[0m\n\u001b[0;32m     31\u001b[0m             \u001b[0minsert\u001b[0m\u001b[1;33m(\u001b[0m\u001b[0mk\u001b[0m\u001b[1;33m[\u001b[0m\u001b[0mi\u001b[0m\u001b[1;33m]\u001b[0m\u001b[1;33m[\u001b[0m\u001b[1;34m\"tasks\"\u001b[0m\u001b[1;33m]\u001b[0m\u001b[1;33m[\u001b[0m\u001b[0mj\u001b[0m\u001b[1;33m]\u001b[0m\u001b[1;33m[\u001b[0m\u001b[0ml\u001b[0m\u001b[1;33m[\u001b[0m\u001b[1;36m0\u001b[0m\u001b[1;33m]\u001b[0m\u001b[1;33m]\u001b[0m\u001b[1;33m,\u001b[0m\u001b[0mk\u001b[0m\u001b[1;33m[\u001b[0m\u001b[0mi\u001b[0m\u001b[1;33m]\u001b[0m\u001b[1;33m[\u001b[0m\u001b[1;34m\"group\"\u001b[0m\u001b[1;33m]\u001b[0m\u001b[1;33m)\u001b[0m\u001b[1;33m\u001b[0m\u001b[0m\n",
      "\u001b[1;32m<ipython-input-82-07f3ae704666>\u001b[0m in \u001b[0;36mcreate\u001b[1;34m(tasks, group, db)\u001b[0m\n\u001b[0;32m     59\u001b[0m                         \u001b[0msep\u001b[0m\u001b[1;33m=\u001b[0m\u001b[0mlisttostring\u001b[0m\u001b[1;33m(\u001b[0m\u001b[1;34m\",\"\u001b[0m\u001b[1;33m,\u001b[0m\u001b[0mtasks\u001b[0m\u001b[1;33m[\u001b[0m\u001b[1;34m\"columns\"\u001b[0m\u001b[1;33m]\u001b[0m\u001b[1;33m)\u001b[0m\u001b[1;33m\u001b[0m\u001b[0m\n\u001b[0;32m     60\u001b[0m                         \u001b[0mexe\u001b[0m\u001b[1;33m=\u001b[0m\u001b[0mi\u001b[0m\u001b[1;33m.\u001b[0m\u001b[0mcursor\u001b[0m\u001b[1;33m(\u001b[0m\u001b[1;33m)\u001b[0m\u001b[1;33m\u001b[0m\u001b[0m\n\u001b[1;32m---> 61\u001b[1;33m                         \u001b[0mexe\u001b[0m\u001b[1;33m.\u001b[0m\u001b[0mexecute\u001b[0m\u001b[1;33m(\u001b[0m\u001b[1;34m\"CREATE TABLE if not exists {0}.{1}( {2} )\"\u001b[0m\u001b[1;33m.\u001b[0m\u001b[0mformat\u001b[0m\u001b[1;33m(\u001b[0m\u001b[0mtasks\u001b[0m\u001b[1;33m[\u001b[0m\u001b[1;34m\"database\"\u001b[0m\u001b[1;33m]\u001b[0m\u001b[1;33m,\u001b[0m \u001b[0mtasks\u001b[0m\u001b[1;33m[\u001b[0m\u001b[1;34m\"name\"\u001b[0m\u001b[1;33m]\u001b[0m\u001b[1;33m,\u001b[0m \u001b[0msep\u001b[0m\u001b[1;33m)\u001b[0m \u001b[1;33m)\u001b[0m\u001b[1;33m\u001b[0m\u001b[0m\n\u001b[0m\u001b[0;32m     62\u001b[0m                         \u001b[0mprint\u001b[0m\u001b[1;33m(\u001b[0m\u001b[1;34m\"Table {0}.{1} Created Successfully\"\u001b[0m\u001b[1;33m.\u001b[0m\u001b[0mformat\u001b[0m\u001b[1;33m(\u001b[0m\u001b[0mtasks\u001b[0m\u001b[1;33m[\u001b[0m\u001b[1;34m\"database\"\u001b[0m\u001b[1;33m]\u001b[0m\u001b[1;33m,\u001b[0m\u001b[0mtasks\u001b[0m\u001b[1;33m[\u001b[0m\u001b[1;34m\"name\"\u001b[0m\u001b[1;33m]\u001b[0m\u001b[1;33m)\u001b[0m\u001b[1;33m)\u001b[0m\u001b[1;33m\u001b[0m\u001b[0m\n\u001b[0;32m     63\u001b[0m                     \u001b[1;32melse\u001b[0m\u001b[1;33m:\u001b[0m\u001b[1;33m\u001b[0m\u001b[0m\n",
      "\u001b[1;31mInvalidSchemaName\u001b[0m: schema \"test4\" does not exist\nLINE 1: CREATE TABLE if not exists test4.ttt5( firstname VARCHAR(30)...\n                                   ^\n"
     ]
    }
   ],
   "source": [
    "\"\"\"\n",
    "import os\n",
    "import sys\n",
    "path=os.getcwd()\n",
    "try:\n",
    "\n",
    "        ymlfile=os.path.basename(sys.argv[1])\n",
    "        loc=\"{0}/{1}\".format(path, ymlfile)\n",
    "        print(\"Executing file: \",loc)\n",
    "except:\n",
    "        print(\"Pass the argument in the formate \\'quat playbook.yml\\' \")\n",
    "\"\"\"\n",
    "\n",
    "\n",
    "from yaml import safe_load\n",
    "with open(\"pcreate.yml\", 'rb') as f:\n",
    "    data = f.read()\n",
    "    k = safe_load(data)\n",
    "    \n",
    "\n",
    "for i in range(len(k)):\n",
    "    for j in range(len(k[i][\"tasks\"])):\n",
    "        l=[]\n",
    "        l=list(k[i][\"tasks\"][j].keys())\n",
    "        l.remove('name')\n",
    "        #__import__(\"{0}1.{1}.run\".format(k[0][\"dbName\"],l[0]), fromlist=[\"run\"])\n",
    "        #print(\"EXECUTING TASKS: \", k[i][\"tasks\"][\"name\"])\n",
    "        if l[0]==\"create\":\n",
    "            create(k[i][\"tasks\"][j][l[0]],k[i][\"group\"], k[0][\"dbName\"])\n",
    "        if l[0]==\"insert\":\n",
    "            insert(k[i][\"tasks\"][j][l[0]],k[i][\"group\"])\n",
    "        if l[0]==\"alter\":\n",
    "            alter(k[i][\"tasks\"][j][l[0]],k[i][\"group\"])\n",
    "        if l[0]==\"grant\":\n",
    "            grant(k[i][\"tasks\"][j][l[0]],k[i][\"group\"])\n",
    "        if l[0]==\"select\":\n",
    "            select(k[i][\"tasks\"][j][l[0]],k[i][\"group\"])\n",
    "        if l[0]==\"drop\":\n",
    "            drop(k[i][\"tasks\"][j][l[0]],k[i][\"group\"])\n",
    "        if l[0]==\"truncate\":\n",
    "            truncate(k[i][\"tasks\"][j][l[0]],k[i][\"group\"])\n",
    "        if l[0]==\"revoke\":\n",
    "            revoke(k[i][\"tasks\"][j][l[0]],k[i][\"group\"])\n",
    "        if l[0]==\"lock\":\n",
    "            lock(k[i][\"tasks\"][j][l[0]],k[i][\"group\"])\n",
    "        if l[0]==\"command\":\n",
    "            command(k[i][\"tasks\"][j][l[0]],k[i][\"group\"])            \n",
    "        if l[0]==\"rename\":\n",
    "            rename(k[i][\"tasks\"][j][l[0]],k[i][\"group\"])\n",
    "        if l[0]==\"update\":\n",
    "            update(k[i][\"tasks\"][j][l[0]],k[i][\"group\"])\n",
    "        if l[0]==\"delete\":\n",
    "            delete(k[i][\"tasks\"][j][l[0]],k[i][\"group\"])\n",
    "        if l[0]==\"select\":\n",
    "            select(k[i][\"tasks\"][j][l[0]],k[i][\"group\"])\n",
    "        \n",
    "            \n"
   ]
  },
  {
   "cell_type": "code",
   "execution_count": 29,
   "metadata": {},
   "outputs": [],
   "source": [
    "import psycopg2"
   ]
  },
  {
   "cell_type": "code",
   "execution_count": 42,
   "metadata": {},
   "outputs": [],
   "source": [
    "db=psycopg2.connect(database=\"testdb\", user=\"psqluser\", password=\"psqlroot\", host=\"35.154.61.189\")"
   ]
  },
  {
   "cell_type": "code",
   "execution_count": 36,
   "metadata": {},
   "outputs": [
    {
     "name": "stdout",
     "output_type": "stream",
     "text": [
      "<connection object at 0x000001CD255FD8C8; dsn: 'user=psqluser password=xxx dbname=testdb host=35.154.61.189 port=5432', closed: 0>\n"
     ]
    }
   ],
   "source": [
    "print(db)"
   ]
  },
  {
   "cell_type": "code",
   "execution_count": null,
   "metadata": {},
   "outputs": [],
   "source": [
    "h=k[0][\"tasks\"][1][l[0]][\"values\"]"
   ]
  },
  {
   "cell_type": "code",
   "execution_count": null,
   "metadata": {},
   "outputs": [],
   "source": [
    "(k[0][\"tasks\"][0][l[0]])"
   ]
  },
  {
   "cell_type": "code",
   "execution_count": null,
   "metadata": {},
   "outputs": [],
   "source": [
    "n=listtostring(\",\",k[0][\"tasks\"][1][l[0]][\"values\"])\n",
    "print(n)"
   ]
  },
  {
   "cell_type": "code",
   "execution_count": null,
   "metadata": {},
   "outputs": [],
   "source": [
    "list(k[0][\"tasks\"][1][l[0]][\"values\"][0])"
   ]
  },
  {
   "cell_type": "code",
   "execution_count": null,
   "metadata": {},
   "outputs": [],
   "source": [
    "s=\"insert into {} values({})\".format(k[0][\"tasks\"][1][l[0]][\"table\"],str(k[0][\"tasks\"][1][l[0]][\"values\"][0]))\n",
    "print(s)"
   ]
  },
  {
   "cell_type": "code",
   "execution_count": null,
   "metadata": {},
   "outputs": [],
   "source": [
    "str(k[0][\"tasks\"][1][l[0]][\"values\"])[1:-1]"
   ]
  },
  {
   "cell_type": "code",
   "execution_count": null,
   "metadata": {},
   "outputs": [],
   "source": [
    "format(str(list_to_check)[1:-1])"
   ]
  },
  {
   "cell_type": "code",
   "execution_count": null,
   "metadata": {},
   "outputs": [],
   "source": [
    "str(k[0][\"tasks\"][1][l[0]][\"values\"][0])"
   ]
  },
  {
   "cell_type": "code",
   "execution_count": null,
   "metadata": {},
   "outputs": [],
   "source": [
    "len(str(k[0][\"tasks\"][1][l[0]][\"values\"][0]))"
   ]
  },
  {
   "cell_type": "code",
   "execution_count": null,
   "metadata": {},
   "outputs": [],
   "source": [
    "cursor.executemany('INSERT INTO test (' + ', '.join(field_name) + ') VALUES (' + ', '.join([i for i in range(len(k[0][\"tasks\"][1][l[0]][\"values\"]))]) + ')', k[0][\"tasks\"][1][l[0]][\"values\"])"
   ]
  },
  {
   "cell_type": "code",
   "execution_count": null,
   "metadata": {},
   "outputs": [],
   "source": [
    "#cursor.executemany('INSERT INTO test  VALUES (' + ', '.join(['(%s)' for i in range(len(k[0][\"tasks\"][1][l[0]][\"values\"].split(\"--\"))-1)]) + ')', k[0][\"tasks\"][1][l[0]][\"values\"].split(\"--\")[1:])"
   ]
  },
  {
   "cell_type": "code",
   "execution_count": null,
   "metadata": {},
   "outputs": [],
   "source": [
    "s='INSERT INTO {0}  VALUES (' + ', '.join(['(%s)' for i in range(len(k[0][\"tasks\"][1][l[0]][\"values\"].split(\"--\"))-1)]) + ')'.format(k[0][\"tasks\"][1][l[0]][\"table\"])\n",
    "print(s)"
   ]
  },
  {
   "cell_type": "code",
   "execution_count": null,
   "metadata": {},
   "outputs": [],
   "source": [
    "s='grant \"' + '\",\"'.join([i for i in k[1][\"tasks\"][0][\"grant\"][\"roles\"]])\n",
    "print(s)"
   ]
  },
  {
   "cell_type": "code",
   "execution_count": null,
   "metadata": {},
   "outputs": [],
   "source": [
    "k[1][\"tasks\"][0][\"grant\"][\"roles\"]"
   ]
  },
  {
   "cell_type": "code",
   "execution_count": null,
   "metadata": {},
   "outputs": [],
   "source": [
    "s='INSERT INTO {0}  VALUES \"' + '\",\"'.join(k[1][\"tasks\"][0][\"grant\"][\"roles\"])\n",
    "print(s)"
   ]
  },
  {
   "cell_type": "code",
   "execution_count": null,
   "metadata": {},
   "outputs": [],
   "source": [
    "len(k[0][\"tasks\"][1][l[0]][\"values\"].split(\"--\"))"
   ]
  },
  {
   "cell_type": "code",
   "execution_count": null,
   "metadata": {},
   "outputs": [],
   "source": [
    "s=\"INSERT INTO {0}  VALUES ({1})\".format(k[0][\"tasks\"][1][l[0]][\"table\"],  h)\n",
    "print(s)"
   ]
  },
  {
   "cell_type": "code",
   "execution_count": null,
   "metadata": {},
   "outputs": [],
   "source": [
    "k[1][\"tasks\"][j][l[0]][\"user\"][0]"
   ]
  },
  {
   "cell_type": "code",
   "execution_count": null,
   "metadata": {},
   "outputs": [],
   "source": [
    "s='grant \"' + listtostring('\",\"' , k[1][\"tasks\"][0][\"grant\"][\"roles\"]) +'\"'\n",
    "print(s)"
   ]
  },
  {
   "cell_type": "code",
   "execution_count": null,
   "metadata": {},
   "outputs": [],
   "source": []
  },
  {
   "cell_type": "code",
   "execution_count": null,
   "metadata": {},
   "outputs": [],
   "source": []
  },
  {
   "cell_type": "code",
   "execution_count": null,
   "metadata": {},
   "outputs": [],
   "source": []
  },
  {
   "cell_type": "code",
   "execution_count": null,
   "metadata": {},
   "outputs": [],
   "source": []
  },
  {
   "cell_type": "code",
   "execution_count": null,
   "metadata": {},
   "outputs": [],
   "source": [
    "from create import run\n",
    "from common import checkKey, connection, dbConnection, host, load\n",
    "tasks=[{\"type\":\"table\"}]\n",
    "group=\"remote\"\n",
    "#run(tasks, group)\n",
    "#print(load(\"hosts.yml\"))"
   ]
  },
  {
   "cell_type": "code",
   "execution_count": null,
   "metadata": {},
   "outputs": [],
   "source": [
    "#__import__(\"{0}1.{1}.run\".format(k[0][\"dbName\"],l[0]), fromlist=[\"run\"])"
   ]
  },
  {
   "cell_type": "code",
   "execution_count": null,
   "metadata": {},
   "outputs": [],
   "source": [
    "__import__(\"mysql1.create.run\", fromlist=[\"run\"])\n",
    "run(tasks, group)"
   ]
  },
  {
   "cell_type": "code",
   "execution_count": null,
   "metadata": {},
   "outputs": [],
   "source": [
    "dir(mysql1.create.run)"
   ]
  },
  {
   "cell_type": "code",
   "execution_count": null,
   "metadata": {},
   "outputs": [],
   "source": [
    "s=\"{0}1.{1}\".format(k[0][\"dbName\"],l[0])\n",
    "from s import l[0]"
   ]
  },
  {
   "cell_type": "code",
   "execution_count": null,
   "metadata": {},
   "outputs": [],
   "source": []
  },
  {
   "cell_type": "code",
   "execution_count": null,
   "metadata": {},
   "outputs": [],
   "source": []
  },
  {
   "cell_type": "code",
   "execution_count": null,
   "metadata": {},
   "outputs": [],
   "source": []
  },
  {
   "cell_type": "code",
   "execution_count": null,
   "metadata": {},
   "outputs": [],
   "source": []
  },
  {
   "cell_type": "code",
   "execution_count": null,
   "metadata": {},
   "outputs": [],
   "source": [
    "\n",
    "import mysql.connector\n"
   ]
  },
  {
   "cell_type": "code",
   "execution_count": null,
   "metadata": {},
   "outputs": [],
   "source": [
    "mydb = mysql.connector.connect(\n",
    "  host=\"13.233.136.145\",\n",
    "  user=\"jvie\",\n",
    "  password=\"#jview@123\",\n",
    "  database=\"jdb\"\n",
    ")\n",
    "\n",
    "mycursor1 = mydb.cursor()\n",
    "#ROW(1,2,3), ROW(4,5,6), ROW(7,8,9);\n",
    "#mycursor1.execute(\"insert into ttt1 values ROW(1,2,3), ROW(4,5,6), ROW(7,8,9)\")\n",
    "#mycursor1.execute(\"insert into ttt1 values row('a' , 'b' , 'a@b')\")\n",
    "#mycursor1.executemany(\"insert into ttt1 values(('a , b , a@b', 'c , d , c@d', 'e , f , e@f'))\")\n",
    "#mycursor1.execute(s)\n",
    "#mydb.commit()\n",
    "#print(mycursor1.rowcount, \"record inserted.\")\n",
    "mycursor1.execute(\"show databases\")\n",
    "#mycursor1.execute(\"select * from ttt1\")\n",
    "for x in mycursor1:\n",
    "    print(x)\n",
    "\n"
   ]
  },
  {
   "cell_type": "code",
   "execution_count": null,
   "metadata": {},
   "outputs": [],
   "source": [
    "def from_yaml(data):\n",
    "    if isinstance(data, str):\n",
    "        return yaml.safe_load_all(data)\n",
    "    return data"
   ]
  }
 ],
 "metadata": {
  "kernelspec": {
   "display_name": "Python 3",
   "language": "python",
   "name": "python3"
  },
  "language_info": {
   "codemirror_mode": {
    "name": "ipython",
    "version": 3
   },
   "file_extension": ".py",
   "mimetype": "text/x-python",
   "name": "python",
   "nbconvert_exporter": "python",
   "pygments_lexer": "ipython3",
   "version": "3.7.0"
  }
 },
 "nbformat": 4,
 "nbformat_minor": 2
}
